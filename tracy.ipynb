{
 "cells": [
  {
   "cell_type": "code",
   "execution_count": 4,
   "metadata": {},
   "outputs": [],
   "source": [
    "#import turtle module without having to do turtle.function()\n",
    "from turtle import *\n",
    "import stuff"
   ]
  },
  {
   "cell_type": "code",
   "execution_count": 5,
   "metadata": {},
   "outputs": [],
   "source": [
    "#square function without using the circle() function\n",
    "def square(l,d):\n",
    "    match d:\n",
    "        case \"l\":\n",
    "            for i in range(4):\n",
    "                forward(l)\n",
    "                left(90)\n",
    "        case \"r\":\n",
    "            for i in range(4):\n",
    "                forward(l)\n",
    "                right(90)\n",
    "\n",
    "#function\n",
    "def thing():\n",
    "    thing()"
   ]
  },
  {
   "cell_type": "code",
   "execution_count": null,
   "metadata": {},
   "outputs": [],
   "source": []
  }
 ],
 "metadata": {
  "kernelspec": {
   "display_name": "Python 3",
   "language": "python",
   "name": "python3"
  },
  "language_info": {
   "codemirror_mode": {
    "name": "ipython",
    "version": 3
   },
   "file_extension": ".py",
   "mimetype": "text/x-python",
   "name": "python",
   "nbconvert_exporter": "python",
   "pygments_lexer": "ipython3",
   "version": "3.10.12"
  }
 },
 "nbformat": 4,
 "nbformat_minor": 2
}
